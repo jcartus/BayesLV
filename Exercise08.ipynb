{
 "cells": [
  {
   "cell_type": "code",
   "execution_count": 2,
   "metadata": {},
   "outputs": [],
   "source": [
    "%load_ext autoreload\n",
    "%autoreload 2"
   ]
  },
  {
   "cell_type": "code",
   "execution_count": 3,
   "metadata": {},
   "outputs": [],
   "source": [
    "import numpy as np\n",
    "import scipy.integrate\n",
    "import matplotlib.pyplot as plt\n",
    "import matplotlib as mpl\n",
    "\n",
    "import pandas\n",
    "\n",
    "from collections import defaultdict, Counter"
   ]
  },
  {
   "cell_type": "markdown",
   "metadata": {},
   "source": [
    "<img src=\"img/Exercise08.png\" width=1000>"
   ]
  },
  {
   "cell_type": "markdown",
   "metadata": {},
   "source": [
    "# Let's get the posterior $p( a, b | \\vec{d} )$"
   ]
  },
  {
   "cell_type": "code",
   "execution_count": 4,
   "metadata": {},
   "outputs": [],
   "source": [
    "from utilities import flat, truncated_jeffreys"
   ]
  },
  {
   "cell_type": "code",
   "execution_count": 83,
   "metadata": {},
   "outputs": [
    {
     "data": {
      "text/plain": [
       "0.0"
      ]
     },
     "execution_count": 83,
     "metadata": {},
     "output_type": "execute_result"
    }
   ],
   "source": [
    "def prior_a(a):\n",
    "    return truncated_jeffreys(a, lower=0.04, upper=25) / (np.log(25) - np.log(0.04))\n",
    "\n",
    "prior_a(0)\n"
   ]
  },
  {
   "cell_type": "code",
   "execution_count": 117,
   "metadata": {},
   "outputs": [],
   "source": [
    "\n",
    "def prior_b(b):\n",
    "    return flat(b, lower=0, upper=7)"
   ]
  },
  {
   "cell_type": "code",
   "execution_count": 118,
   "metadata": {},
   "outputs": [],
   "source": [
    "def func(x, a, b):\n",
    "    return np.sin(a*x + b)"
   ]
  },
  {
   "cell_type": "code",
   "execution_count": 119,
   "metadata": {},
   "outputs": [
    {
     "data": {
      "text/plain": [
       "[(2.5, 0.1)]"
      ]
     },
     "execution_count": 119,
     "metadata": {},
     "output_type": "execute_result"
    }
   ],
   "source": [
    "data = list(zip(\n",
    "    np.array([2.5, 7, 8.5]),\n",
    "    np.array([0.1, 0.35, 1.0])\n",
    "))\n",
    "data[:1]"
   ]
  },
  {
   "cell_type": "code",
   "execution_count": 120,
   "metadata": {},
   "outputs": [
    {
     "data": {
      "text/plain": [
       "[(2.5, 0.1)]"
      ]
     },
     "execution_count": 120,
     "metadata": {},
     "output_type": "execute_result"
    }
   ],
   "source": [
    "d1 = data[:1]\n",
    "d1"
   ]
  },
  {
   "cell_type": "code",
   "execution_count": 140,
   "metadata": {},
   "outputs": [
    {
     "data": {
      "text/plain": [
       "0.1573048557008377"
      ]
     },
     "execution_count": 140,
     "metadata": {},
     "output_type": "execute_result"
    }
   ],
   "source": [
    "def likelihood(a, b, data, sigma=0.2, f=func):\n",
    "    \"\"\"p(data | a, b)\"\"\"\n",
    "    exponent = - 0.5 * np.sum([\n",
    "        (y - f(x, a, b))**2 for x, y in data\n",
    "    ], axis=0) / sigma**2\n",
    "\n",
    "    return np.exp(exponent) / (sigma * np.sqrt(2*np.pi))\n",
    "\n",
    "likelihood(1, 1, data=data[:1])"
   ]
  },
  {
   "cell_type": "code",
   "execution_count": 141,
   "metadata": {},
   "outputs": [
    {
     "data": {
      "text/plain": [
       "2.2027381205413783e-08"
      ]
     },
     "execution_count": 141,
     "metadata": {},
     "output_type": "execute_result"
    }
   ],
   "source": [
    "def posterior_a_b(a, b, data):\n",
    "    p = likelihood(a, b, data=data, sigma=0.2) * prior_a(a) * prior_b(b)\n",
    "    return p\n",
    "\n",
    "posterior_a_b(1,2, data=data[:1])"
   ]
  },
  {
   "cell_type": "code",
   "execution_count": 142,
   "metadata": {},
   "outputs": [
    {
     "name": "stderr",
     "output_type": "stream",
     "text": [
      "/var/folders/y5/v1z7p_cs5r52n2kw2rl1bymc0000gp/T/ipykernel_35337/947706923.py:9: RuntimeWarning: divide by zero encountered in log\n",
      "  aa, bb, np.log(p)\n"
     ]
    },
    {
     "data": {
      "image/png": "[encoded data removed]",
      "text/plain": [
       "<Figure size 432x288 with 2 Axes>"
      ]
     },
     "metadata": {
      "needs_background": "light"
     },
     "output_type": "display_data"
    }
   ],
   "source": [
    "aa, bb = np.meshgrid(\n",
    "    np.linspace(0, 25, 1000),\n",
    "    np.linspace(0, 8, 1000)\n",
    ")\n",
    "\n",
    "p = posterior_a_b(aa, bb, data=d1)\n",
    "\n",
    "plt.contourf(\n",
    "    aa, bb, np.log(p)\n",
    ")\n",
    "\n",
    "plt.xlabel(\"a\")\n",
    "plt.ylabel(\"b\")\n",
    "cbar = plt.colorbar()\n",
    "cbar.set_label(\"log p(a, b | data\")"
   ]
  },
  {
   "cell_type": "code",
   "execution_count": 143,
   "metadata": {},
   "outputs": [
    {
     "data": {
      "text/plain": [
       "0.884367928379279"
      ]
     },
     "execution_count": 143,
     "metadata": {},
     "output_type": "execute_result"
    }
   ],
   "source": [
    "np.max(p)"
   ]
  },
  {
   "cell_type": "markdown",
   "metadata": {},
   "source": [
    "## Norm the posterior"
   ]
  },
  {
   "cell_type": "code",
   "execution_count": 144,
   "metadata": {},
   "outputs": [
    {
     "data": {
      "text/plain": [
       "0.3258419057991915"
      ]
     },
     "execution_count": 144,
     "metadata": {},
     "output_type": "execute_result"
    }
   ],
   "source": [
    "N = 10000\n",
    "aa, bb = np.meshgrid(\n",
    "    np.linspace(0, 25, N),\n",
    "    np.linspace(0, 8, N)\n",
    ")\n",
    "\n",
    "p = posterior_a_b(aa, bb, data=d1)\n",
    "\n",
    "np.sum(p) * np.mean(np.diff(aa[0, :])) * np.mean(np.diff(bb[:, 0]))\n"
   ]
  },
  {
   "cell_type": "code",
   "execution_count": 145,
   "metadata": {},
   "outputs": [
    {
     "name": "stderr",
     "output_type": "stream",
     "text": [
      "/opt/homebrew/anaconda3/lib/python3.9/site-packages/scipy/integrate/quadpack.py:879: IntegrationWarning: The maximum number of subdivisions (50) has been achieved.\n",
      "  If increasing the limit yields no improvement it is advised to analyze \n",
      "  the integrand in order to determine the difficulties.  If the position of a \n",
      "  local difficulty can be determined (singularity, discontinuity) one will \n",
      "  probably gain from splitting up the interval and calling the integrator \n",
      "  on the subranges.  Perhaps a special-purpose integrator should be used.\n",
      "  quad_r = quad(f, low, high, args=args, full_output=self.full_output,\n"
     ]
    },
    {
     "data": {
      "text/plain": [
       "0.3328325804909829"
      ]
     },
     "execution_count": 145,
     "metadata": {},
     "output_type": "execute_result"
    }
   ],
   "source": [
    "Z_posterior = scipy.integrate.dblquad(\n",
    "    lambda y, x: posterior_a_b(a=x, b=y, data=d1),\n",
    "    0, 25, # limits for a\n",
    "    0, 7, # limits for b\n",
    ")[0]\n",
    "Z_posterior"
   ]
  },
  {
   "cell_type": "code",
   "execution_count": 146,
   "metadata": {},
   "outputs": [
    {
     "data": {
      "text/plain": [
       "(1.0000214731382175, 0.25458565164560926)"
      ]
     },
     "execution_count": 146,
     "metadata": {},
     "output_type": "execute_result"
    }
   ],
   "source": [
    "def posterior_a_b_normed(a, b, data):\n",
    "    return posterior_a_b(a, b, data=data) / Z_posterior\n",
    "\n",
    "scipy.integrate.dblquad(\n",
    "    lambda y, x: posterior_a_b_normed(x, y, data=d1),\n",
    "    0, 25, # limits for a\n",
    "    0, 7, # limits for b\n",
    ")"
   ]
  },
  {
   "cell_type": "markdown",
   "metadata": {},
   "source": [
    "# Sample the posterior (via rejection method)"
   ]
  },
  {
   "cell_type": "code",
   "execution_count": 147,
   "metadata": {},
   "outputs": [
    {
     "data": {
      "text/plain": [
       "3.324772914259435"
      ]
     },
     "execution_count": 147,
     "metadata": {},
     "output_type": "execute_result"
    }
   ],
   "source": [
    "sigma = 0.2\n",
    "\n",
    "# max of prior a: 1/x, where x=lower boundary --> 1/0.04 (* normalisation)\n",
    "# max of prior a: 1/7\n",
    "\n",
    "# max of posterior:\n",
    "1/(sigma * np.sqrt(2 * np.pi)) * (1/7) * (1/0.04) * (1/(np.log(25) - np.log(0.04))) / Z_posterior"
   ]
  },
  {
   "cell_type": "code",
   "execution_count": 148,
   "metadata": {},
   "outputs": [
    {
     "data": {
      "text/plain": [
       "7.123969292882726"
      ]
     },
     "execution_count": 148,
     "metadata": {},
     "output_type": "execute_result"
    }
   ],
   "source": [
    "# without norms\n",
    "1/(sigma * np.sqrt(2 * np.pi)) * (1/7) * (1/0.04) "
   ]
  },
  {
   "cell_type": "code",
   "execution_count": 149,
   "metadata": {},
   "outputs": [],
   "source": [
    "def envelope(a, b, value=8):\n",
    "    \"\"\"Estimate for max of posterior see above --> value\"\"\"\n",
    "\n",
    "    # check the boundaries\n",
    "    L = prior_a(a) * prior_b(b) != 0\n",
    "\n",
    "    r = np.zeros_like(a)\n",
    "    r[L] = value\n",
    "    return r\n"
   ]
  },
  {
   "cell_type": "code",
   "execution_count": 153,
   "metadata": {},
   "outputs": [
    {
     "data": {
      "text/plain": [
       "Text(0, 0.5, 'b')"
      ]
     },
     "execution_count": 153,
     "metadata": {},
     "output_type": "execute_result"
    },
    {
     "data": {
      "image/png": "[encoded data removed]",
      "text/plain": [
       "<Figure size 432x288 with 1 Axes>"
      ]
     },
     "metadata": {
      "needs_background": "light"
     },
     "output_type": "display_data"
    }
   ],
   "source": [
    "def inverse_sampling_of_a_b(N, blocksize=None, data=d1):\n",
    "\n",
    "    if blocksize is None:\n",
    "        blocksize = N\n",
    "\n",
    "    sampled_values_a = []\n",
    "    sampled_values_b = []\n",
    "    \n",
    "    while len(sampled_values_a) < N:\n",
    "\n",
    "        u = np.random.rand(blocksize)\n",
    "        \n",
    "        y = (np.random.rand(blocksize, 2) * np.array([30, 8])).transpose()\n",
    "        \n",
    "        \n",
    "        #is_accepted = u > (prior_function(y) / envelope_function(y))\n",
    "        is_accepted = (u * envelope(*y)) < posterior_a_b_normed(*y, data=data)\n",
    "        \n",
    "        sampled_values_a += list(y[0, is_accepted])\n",
    "        sampled_values_b += list(y[1, is_accepted])\n",
    "\n",
    "        #break\n",
    "    return np.asarray(sampled_values_a[:N]), np.asarray(sampled_values_b[:N])\n",
    "\n",
    "\n",
    "samples_a, samples_b = inverse_sampling_of_a_b(\n",
    "    N=1000,\n",
    "    #blocksize=10000,\n",
    "    data=data[:1]\n",
    ")\n",
    "\n",
    "plt.plot(samples_a, samples_b, \".\")\n",
    "plt.xlabel(\"a\")\n",
    "plt.ylabel(\"b\")\n"
   ]
  },
  {
   "cell_type": "code",
   "execution_count": 138,
   "metadata": {},
   "outputs": [
    {
     "data": {
      "text/plain": [
       "(1000,)"
      ]
     },
     "execution_count": 138,
     "metadata": {},
     "output_type": "execute_result"
    }
   ],
   "source": [
    "samples_a.shape"
   ]
  },
  {
   "cell_type": "code",
   "execution_count": 139,
   "metadata": {},
   "outputs": [
    {
     "data": {
      "text/plain": [
       "6.437751649736401"
      ]
     },
     "execution_count": 139,
     "metadata": {},
     "output_type": "execute_result"
    }
   ],
   "source": [
    "(np.log(25) - np.log(0.04))"
   ]
  },
  {
   "cell_type": "code",
   "execution_count": null,
   "metadata": {},
   "outputs": [],
   "source": []
  }
 ],
 "metadata": {
  "kernelspec": {
   "display_name": "Python 3.9.7 ('base')",
   "language": "python",
   "name": "python3"
  },
  "language_info": {
   "codemirror_mode": {
    "name": "ipython",
    "version": 3
   },
   "file_extension": ".py",
   "mimetype": "text/x-python",
   "name": "python",
   "nbconvert_exporter": "python",
   "pygments_lexer": "ipython3",
   "version": "3.9.7"
  },
  "orig_nbformat": 4,
  "vscode": {
   "interpreter": {
    "hash": "38cca0c38332a56087b24af0bc80247f4fced29cb4f7f437d91dc159adec9c4e"
   }
  }
 },
 "nbformat": 4,
 "nbformat_minor": 2
}
