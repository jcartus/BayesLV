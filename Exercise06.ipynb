{
 "cells": [
  {
   "cell_type": "code",
   "execution_count": 2,
   "metadata": {},
   "outputs": [],
   "source": [
    "%load_ext autoreload\n",
    "%autoreload 2"
   ]
  },
  {
   "cell_type": "code",
   "execution_count": 3,
   "metadata": {},
   "outputs": [],
   "source": [
    "import numpy as np\n",
    "import matplotlib.pyplot as plt\n",
    "import matplotlib as mpl\n",
    "\n",
    "import pandas\n",
    "\n",
    "from collections import defaultdict, Counter"
   ]
  },
  {
   "cell_type": "markdown",
   "metadata": {},
   "source": [
    "## Part 1\n",
    "<img src=\"img/Exercise06.png\" width=1000>"
   ]
  },
  {
   "cell_type": "code",
   "execution_count": 8,
   "metadata": {},
   "outputs": [
    {
     "data": {
      "text/plain": [
       "[<matplotlib.lines.Line2D at 0x7fa0d8180d60>]"
      ]
     },
     "execution_count": 8,
     "metadata": {},
     "output_type": "execute_result"
    },
    {
     "data": {
      "image/png": "[encoded data removed]",
      "text/plain": [
       "<Figure size 432x288 with 1 Axes>"
      ]
     },
     "metadata": {
      "needs_background": "light"
     },
     "output_type": "display_data"
    }
   ],
   "source": [
    "x = np.array([1, 3, 5, 7, 9])\n",
    "y = np.array([7.5, 12, 15, 19, 22])\n",
    "\n",
    "plt.plot(x, y, \"x\")"
   ]
  },
  {
   "cell_type": "code",
   "execution_count": 5,
   "metadata": {},
   "outputs": [],
   "source": [
    "def flat(x, lower, upper):\n",
    "    try:\n",
    "        len(x)\n",
    "        r = np.zeros_like(x)\n",
    "        L = (x > lower) & (x < upper)\n",
    "        r[L] = 1/(upper - lower)\n",
    "    except TypeError:\n",
    "        if x > lower and x < upper:\n",
    "            r = 1/(upper - lower)\n",
    "        else:\n",
    "            r = 0\n",
    "    return r\n",
    "    "
   ]
  },
  {
   "cell_type": "code",
   "execution_count": 9,
   "metadata": {},
   "outputs": [],
   "source": [
    "def func(x, a, b):\n",
    "    return np.sqrt(a * b * x) + np.log(a * x) + 0.5 * np.sqrt(b) * x\n"
   ]
  },
  {
   "cell_type": "code",
   "execution_count": 12,
   "metadata": {},
   "outputs": [
    {
     "data": {
      "text/plain": [
       "0.001712035610340695"
      ]
     },
     "execution_count": 12,
     "metadata": {},
     "output_type": "execute_result"
    }
   ],
   "source": [
    "def prior(a, b):\n",
    "    return flat(a, lower=0.5, upper=30) * flat(b, lower=0.2, upper=20)\n",
    "\n",
    "prior(1, 2)"
   ]
  },
  {
   "cell_type": "code",
   "execution_count": 42,
   "metadata": {},
   "outputs": [
    {
     "data": {
      "text/plain": [
       "-134.1517143026549"
      ]
     },
     "execution_count": 42,
     "metadata": {},
     "output_type": "execute_result"
    }
   ],
   "source": [
    "def log_likelihood(a, b, data, f=func, sigma=1):\n",
    "    \n",
    "    return - 0.5 / sigma * np.sum([\n",
    "        (y-f(x, a, b))**2 for x, y in data\n",
    "    ], axis=0)\n",
    "\n",
    "log_likelihood(1, 2, data=zip(x, y))"
   ]
  },
  {
   "cell_type": "code",
   "execution_count": 43,
   "metadata": {},
   "outputs": [
    {
     "data": {
      "text/plain": [
       "-140.52178650370118"
      ]
     },
     "execution_count": 43,
     "metadata": {},
     "output_type": "execute_result"
    }
   ],
   "source": [
    "def log_posterior(a, b, data, f=func, sigma=1):\n",
    "    return log_likelihood(a, b, data, f=f, sigma=sigma) + np.log(prior(a, b))\n",
    "\n",
    "log_posterior(1, 2, data=zip(x, y))"
   ]
  },
  {
   "cell_type": "code",
   "execution_count": 80,
   "metadata": {},
   "outputs": [],
   "source": [
    "N = 200\n",
    "aa = np.linspace(0, 32, N)\n",
    "bb = np.linspace(0, 22, N)\n",
    "a, b = np.meshgrid(aa, bb)"
   ]
  },
  {
   "cell_type": "code",
   "execution_count": 81,
   "metadata": {},
   "outputs": [
    {
     "name": "stderr",
     "output_type": "stream",
     "text": [
      "/var/folders/y5/v1z7p_cs5r52n2kw2rl1bymc0000gp/T/ipykernel_32057/3686745573.py:2: RuntimeWarning: divide by zero encountered in log\n",
      "  return np.sqrt(a * b * x) + np.log(a * x) + 0.5 * np.sqrt(b) * x\n"
     ]
    },
    {
     "data": {
      "text/plain": [
       "Text(0.5, 1.0, 'Posterior')"
      ]
     },
     "execution_count": 81,
     "metadata": {},
     "output_type": "execute_result"
    },
    {
     "data": {
      "image/png": "[encoded data removed]",
      "text/plain": [
       "<Figure size 432x288 with 2 Axes>"
      ]
     },
     "metadata": {
      "needs_background": "light"
     },
     "output_type": "display_data"
    }
   ],
   "source": [
    "plt.contourf(\n",
    "    a,\n",
    "    b,\n",
    "    log_posterior(a, b, data=zip(x, y))\n",
    ")\n",
    "\n",
    "plt.xlabel(\"a\")\n",
    "plt.ylabel(\"b\")\n",
    "cbar = plt.colorbar()\n",
    "cbar.set_label(\"poster\")\n",
    "\n",
    "plt.title(\"Posterior\")\n"
   ]
  },
  {
   "cell_type": "code",
   "execution_count": 82,
   "metadata": {},
   "outputs": [
    {
     "name": "stderr",
     "output_type": "stream",
     "text": [
      "/var/folders/y5/v1z7p_cs5r52n2kw2rl1bymc0000gp/T/ipykernel_32057/3686745573.py:2: RuntimeWarning: divide by zero encountered in log\n",
      "  return np.sqrt(a * b * x) + np.log(a * x) + 0.5 * np.sqrt(b) * x\n"
     ]
    },
    {
     "data": {
      "text/plain": [
       "Text(0.5, 1.0, 'Posterior')"
      ]
     },
     "execution_count": 82,
     "metadata": {},
     "output_type": "execute_result"
    },
    {
     "data": {
      "image/png": "[encoded data removed]",
      "text/plain": [
       "<Figure size 432x288 with 2 Axes>"
      ]
     },
     "metadata": {
      "needs_background": "light"
     },
     "output_type": "display_data"
    }
   ],
   "source": [
    "plt.contourf(\n",
    "    a,\n",
    "    b,\n",
    "    np.exp(log_posterior(a, b, data=zip(x, y)))\n",
    ")\n",
    "\n",
    "plt.xlabel(\"a\")\n",
    "plt.ylabel(\"b\")\n",
    "cbar = plt.colorbar()\n",
    "cbar.set_label(\"poster\")\n",
    "\n",
    "plt.title(\"Posterior\")\n"
   ]
  },
  {
   "cell_type": "code",
   "execution_count": 83,
   "metadata": {},
   "outputs": [
    {
     "name": "stderr",
     "output_type": "stream",
     "text": [
      "/var/folders/y5/v1z7p_cs5r52n2kw2rl1bymc0000gp/T/ipykernel_32057/3686745573.py:2: RuntimeWarning: divide by zero encountered in log\n",
      "  return np.sqrt(a * b * x) + np.log(a * x) + 0.5 * np.sqrt(b) * x\n"
     ]
    },
    {
     "data": {
      "text/plain": [
       "(11.738693467336683, 1.3266331658291457)"
      ]
     },
     "execution_count": 83,
     "metadata": {},
     "output_type": "execute_result"
    }
   ],
   "source": [
    "p = log_posterior(a, b, data=zip(x, y))\n",
    "index = np.nanargmax(p)\n",
    "\n",
    "a_expected = a.flatten()[index]\n",
    "b_expected = b.flatten()[index]\n",
    "a_expected, b_expected"
   ]
  },
  {
   "cell_type": "code",
   "execution_count": 84,
   "metadata": {},
   "outputs": [
    {
     "data": {
      "text/plain": [
       "<matplotlib.legend.Legend at 0x7fa0e8ad9700>"
      ]
     },
     "execution_count": 84,
     "metadata": {},
     "output_type": "execute_result"
    },
    {
     "data": {
      "image/png": "[encoded data removed]",
      "text/plain": [
       "<Figure size 432x288 with 1 Axes>"
      ]
     },
     "metadata": {
      "needs_background": "light"
     },
     "output_type": "display_data"
    }
   ],
   "source": [
    "plt.plot(x, y, \"x\", label=\"data\")\n",
    "\n",
    "t = np.linspace(1, 10, 100)\n",
    "plt.plot(t, func(t, a_expected, b_expected), label=\"h(x, <a>, <b>)\")\n",
    "\n",
    "plt.xlabel(\"x\")\n",
    "plt.ylabel(\"f(x)\")\n",
    "plt.legend()"
   ]
  },
  {
   "cell_type": "markdown",
   "metadata": {},
   "source": [
    "### Marginalized posteriors $p(a | data) = \\int \\mathrm{d}b ~p(a, b | d)$"
   ]
  },
  {
   "cell_type": "code",
   "execution_count": 85,
   "metadata": {},
   "outputs": [
    {
     "name": "stderr",
     "output_type": "stream",
     "text": [
      "/var/folders/y5/v1z7p_cs5r52n2kw2rl1bymc0000gp/T/ipykernel_32057/3686745573.py:2: RuntimeWarning: divide by zero encountered in log\n",
      "  return np.sqrt(a * b * x) + np.log(a * x) + 0.5 * np.sqrt(b) * x\n"
     ]
    }
   ],
   "source": [
    "p = log_posterior(a, b, data=zip(x, y))"
   ]
  },
  {
   "cell_type": "code",
   "execution_count": 88,
   "metadata": {},
   "outputs": [],
   "source": [
    "marginal_likelihood_a = np.sum(np.exp(p), axis=1)\n",
    "marginal_likelihood_b = np.sum(np.exp(p), axis=0)"
   ]
  },
  {
   "cell_type": "code",
   "execution_count": 89,
   "metadata": {},
   "outputs": [
    {
     "data": {
      "text/plain": [
       "array([0.00000000e+00, 0.00000000e+00, 6.70249596e-22, 2.52881141e-10,\n",
       "       1.03783404e-04, 1.10918826e-02, 2.13305352e-02, 2.14607638e-02,\n",
       "       2.08711060e-02, 1.98867433e-02, 1.86498301e-02, 1.72690363e-02,\n",
       "       1.58254510e-02, 1.43780198e-02, 1.29682567e-02, 1.16241810e-02,\n",
       "       1.03635278e-02, 9.19632228e-03, 8.12691655e-03, 7.15558150e-03,\n",
       "       6.27973739e-03, 5.49489424e-03, 4.79536154e-03, 4.17477640e-03,\n",
       "       3.62648971e-03, 3.14384257e-03, 2.72035836e-03, 2.34987076e-03,\n",
       "       2.02660370e-03, 1.74521562e-03, 1.50081776e-03, 1.28897398e-03,\n",
       "       1.10568765e-03, 9.47380134e-04, 8.10863957e-04, 6.93313088e-04,\n",
       "       5.92232081e-04, 5.05425301e-04, 4.30967088e-04, 3.67173420e-04,\n",
       "       3.12575426e-04, 2.65894924e-04, 2.26022072e-04, 1.91995104e-04,\n",
       "       1.62982094e-04, 1.38264644e-04, 1.17223361e-04, 9.93249917e-05,\n",
       "       8.41110659e-05, 7.11879125e-05, 6.02179051e-05, 5.09118086e-05,\n",
       "       4.30221069e-05, 3.63371972e-05, 3.06763528e-05, 2.58853575e-05,\n",
       "       2.18327287e-05, 1.84064546e-05, 1.55111883e-05, 1.30658389e-05,\n",
       "       1.10014878e-05, 9.25958317e-06, 7.79040140e-06, 6.55176698e-06,\n",
       "       5.50796802e-06, 4.62878271e-06, 3.88859085e-06, 3.26562742e-06,\n",
       "       2.74143155e-06, 2.30044771e-06, 1.92965681e-06, 1.61815025e-06,\n",
       "       1.35667743e-06, 1.13728071e-06, 9.53101445e-07, 7.98331494e-07,\n",
       "       6.68196753e-07, 5.58862337e-07, 4.67230062e-07, 3.90688352e-07,\n",
       "       3.26910083e-07, 2.73762054e-07, 2.29324062e-07, 1.91962062e-07,\n",
       "       1.60386232e-07, 1.33648901e-07, 1.11077611e-07, 9.21711305e-08,\n",
       "       7.64979699e-08, 6.36283878e-08, 5.31116130e-08, 4.44911812e-08,\n",
       "       3.73402463e-08, 3.12973084e-08, 2.60884978e-08, 2.15310834e-08,\n",
       "       1.75204203e-08, 1.40069866e-08, 1.09711402e-08, 8.40165602e-09,\n",
       "       6.28134927e-09, 4.58036620e-09, 3.25577996e-09, 2.25520814e-09,\n",
       "       1.52212671e-09, 1.00106992e-09, 6.41632563e-10, 4.00870660e-10,\n",
       "       2.44188081e-10, 1.45065969e-10, 8.40724176e-11, 4.75465091e-11,\n",
       "       2.62478047e-11, 1.41484592e-11, 7.44901880e-12, 3.83171700e-12,\n",
       "       1.92628766e-12, 9.46692928e-13, 4.54969332e-13, 2.13876249e-13,\n",
       "       9.83717874e-14, 4.42816633e-14, 1.95136327e-14, 8.42027661e-15,\n",
       "       3.55876715e-15, 1.47355560e-15, 5.97907263e-16, 2.37796794e-16,\n",
       "       9.27225781e-17, 3.54546190e-17, 1.32973933e-17, 4.89286496e-18,\n",
       "       1.76667958e-18, 6.26099303e-19, 2.17826547e-19, 7.44132262e-20,\n",
       "       2.49660095e-20, 8.22799678e-21, 2.66421842e-21, 8.47733765e-22,\n",
       "       2.65121407e-22, 8.15090880e-23, 2.46389407e-23, 7.32436958e-24,\n",
       "       2.14154295e-24, 6.15979748e-25, 1.74326208e-25, 4.85498368e-26,\n",
       "       1.33079980e-26, 3.59093342e-27, 9.53982271e-28, 2.49562359e-28,\n",
       "       6.42969067e-29, 1.63169354e-29, 4.07933018e-30, 1.00485655e-30,\n",
       "       2.43919429e-31, 5.83548588e-32, 1.37611953e-32, 3.19921227e-33,\n",
       "       7.33324248e-34, 1.65757253e-34, 3.69512446e-35, 8.12496105e-36,\n",
       "       1.76239802e-36, 3.77164808e-37, 7.96445281e-38, 1.65970418e-38,\n",
       "       3.41355550e-39, 6.93003755e-40, 1.38888600e-40, 2.74820627e-41,\n",
       "       5.36948163e-42, 1.03600917e-42, 1.97419590e-43, 3.71585553e-44,\n",
       "       6.90899995e-45, 1.26912547e-45, 2.30341138e-46, 4.13104550e-47,\n",
       "       7.32172324e-48, 0.00000000e+00, 0.00000000e+00, 0.00000000e+00,\n",
       "       0.00000000e+00, 0.00000000e+00, 0.00000000e+00, 0.00000000e+00,\n",
       "       0.00000000e+00, 0.00000000e+00, 0.00000000e+00, 0.00000000e+00,\n",
       "       0.00000000e+00, 0.00000000e+00, 0.00000000e+00, 0.00000000e+00,\n",
       "       0.00000000e+00, 0.00000000e+00, 0.00000000e+00, 0.00000000e+00])"
      ]
     },
     "execution_count": 89,
     "metadata": {},
     "output_type": "execute_result"
    }
   ],
   "source": [
    "marginal_likelihood_a"
   ]
  },
  {
   "cell_type": "code",
   "execution_count": 91,
   "metadata": {},
   "outputs": [
    {
     "data": {
      "text/plain": [
       "Text(0, 0.5, 'marginal likelihood p(a|d)')"
      ]
     },
     "execution_count": 91,
     "metadata": {},
     "output_type": "execute_result"
    },
    {
     "data": {
      "image/png": "[encoded data removed]",
      "text/plain": [
       "<Figure size 432x288 with 1 Axes>"
      ]
     },
     "metadata": {
      "needs_background": "light"
     },
     "output_type": "display_data"
    }
   ],
   "source": [
    "plt.plot(aa, marginal_likelihood_a)\n",
    "plt.xlabel(\"a\")\n",
    "plt.ylabel(\"marginal likelihood p(a|d)\")"
   ]
  },
  {
   "cell_type": "code",
   "execution_count": 92,
   "metadata": {},
   "outputs": [
    {
     "data": {
      "text/plain": [
       "Text(0, 0.5, 'marginal likelihood p(b|d)')"
      ]
     },
     "execution_count": 92,
     "metadata": {},
     "output_type": "execute_result"
    },
    {
     "data": {
      "image/png": "[encoded data removed]",
      "text/plain": [
       "<Figure size 432x288 with 1 Axes>"
      ]
     },
     "metadata": {
      "needs_background": "light"
     },
     "output_type": "display_data"
    }
   ],
   "source": [
    "plt.plot(bb, marginal_likelihood_b)\n",
    "plt.xlabel(\"b\")\n",
    "plt.ylabel(\"marginal likelihood p(b|d)\")"
   ]
  },
  {
   "cell_type": "code",
   "execution_count": 97,
   "metadata": {},
   "outputs": [
    {
     "data": {
      "text/plain": [
       "(1.6295029398288947, 28.449558041979948)"
      ]
     },
     "execution_count": 97,
     "metadata": {},
     "output_type": "execute_result"
    }
   ],
   "source": [
    "var_a = np.sum(aa**2 * marginal_likelihood_a)\n",
    "var_b = np.sum(bb**2 * marginal_likelihood_b)\n",
    "var_a, var_b"
   ]
  },
  {
   "cell_type": "code",
   "execution_count": 98,
   "metadata": {},
   "outputs": [
    {
     "data": {
      "text/plain": [
       "(1.27651985485103, 5.333812711558211)"
      ]
     },
     "execution_count": 98,
     "metadata": {},
     "output_type": "execute_result"
    }
   ],
   "source": [
    "np.sqrt(var_a), np.sqrt(var_b)"
   ]
  },
  {
   "cell_type": "markdown",
   "metadata": {},
   "source": [
    "## Part B"
   ]
  },
  {
   "cell_type": "markdown",
   "metadata": {},
   "source": []
  },
  {
   "cell_type": "code",
   "execution_count": 99,
   "metadata": {},
   "outputs": [],
   "source": [
    "def h(x, a, b):\n",
    "    return a * b * x"
   ]
  },
  {
   "cell_type": "code",
   "execution_count": 101,
   "metadata": {},
   "outputs": [
    {
     "data": {
      "text/plain": [
       "93.43764046362466"
      ]
     },
     "execution_count": 101,
     "metadata": {},
     "output_type": "execute_result"
    }
   ],
   "source": [
    "h(x=6, a=a_expected, b=b_expected)"
   ]
  },
  {
   "cell_type": "code",
   "execution_count": 105,
   "metadata": {},
   "outputs": [
    {
     "data": {
      "text/plain": [
       "375.80934018642694"
      ]
     },
     "execution_count": 105,
     "metadata": {},
     "output_type": "execute_result"
    }
   ],
   "source": [
    "def error_classical(x, a, b, var_a, var_b):\n",
    "    # dh/da = b*x , dh/db = a*x\n",
    "    return np.sqrt((b*x)**2 * var_a + (a*x)**2 * var_b)\n",
    "\n",
    "error_classical(\n",
    "    x=6,\n",
    "    a=a_expected,\n",
    "    b=b_expected,\n",
    "    var_a=var_a,\n",
    "    var_b=var_b\n",
    ")"
   ]
  },
  {
   "cell_type": "code",
   "execution_count": null,
   "metadata": {},
   "outputs": [],
   "source": []
  }
 ],
 "metadata": {
  "kernelspec": {
   "display_name": "Python 3.9.7 ('base')",
   "language": "python",
   "name": "python3"
  },
  "language_info": {
   "codemirror_mode": {
    "name": "ipython",
    "version": 3
   },
   "file_extension": ".py",
   "mimetype": "text/x-python",
   "name": "python",
   "nbconvert_exporter": "python",
   "pygments_lexer": "ipython3",
   "version": "3.9.7"
  },
  "orig_nbformat": 4,
  "vscode": {
   "interpreter": {
    "hash": "38cca0c38332a56087b24af0bc80247f4fced29cb4f7f437d91dc159adec9c4e"
   }
  }
 },
 "nbformat": 4,
 "nbformat_minor": 2
}
