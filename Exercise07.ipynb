{
 "cells": [
  {
   "cell_type": "code",
   "execution_count": 1,
   "metadata": {},
   "outputs": [],
   "source": [
    "%load_ext autoreload\n",
    "%autoreload 2"
   ]
  },
  {
   "cell_type": "code",
   "execution_count": 2,
   "metadata": {},
   "outputs": [],
   "source": [
    "import numpy as np\n",
    "import matplotlib.pyplot as plt\n",
    "import matplotlib as mpl\n",
    "\n",
    "import pandas\n",
    "\n",
    "from collections import defaultdict, Counter"
   ]
  },
  {
   "cell_type": "markdown",
   "metadata": {},
   "source": [
    "## Part 1\n",
    "<img src=\"img/Exercise07.png\" width=1000>"
   ]
  },
  {
   "cell_type": "code",
   "execution_count": 4,
   "metadata": {},
   "outputs": [],
   "source": [
    "N = 100\n",
    "data_1 = (np.random.rand(N) > 0.5).astype(int)\n",
    "data_2 = (np.random.rand(N) > 0.4).astype(int)"
   ]
  },
  {
   "cell_type": "code",
   "execution_count": 31,
   "metadata": {},
   "outputs": [],
   "source": [
    "n_heads_1 = np.cumsum(data_1)\n",
    "n_heads_2 = np.cumsum(data_2)"
   ]
  },
  {
   "cell_type": "code",
   "execution_count": 14,
   "metadata": {},
   "outputs": [
    {
     "data": {
      "text/plain": [
       "363.73937555834124"
      ]
     },
     "execution_count": 14,
     "metadata": {},
     "output_type": "execute_result"
    }
   ],
   "source": [
    "def log_factorial(n):\n",
    "    \"\"\"Sterling formula: ln(n!) = n * ln(n) + 0.5 * ln (2pi n) -n + 1/(12n)\"\"\"\n",
    "    return n * np.log(n) + 0.5 * np.log(2*np.pi*n) - n + 1/(12*n)\n",
    "\n",
    "log_factorial(100)"
   ]
  },
  {
   "cell_type": "code",
   "execution_count": 27,
   "metadata": {},
   "outputs": [
    {
     "data": {
      "text/plain": [
       "2.084244071120793"
      ]
     },
     "execution_count": 27,
     "metadata": {},
     "output_type": "execute_result"
    }
   ],
   "source": [
    "def log_odds(N, n_H):\n",
    "    \"\"\"log of odds ratio fair to unfair model.\n",
    "    N data points, n_H number of heads\n",
    "    \"\"\"\n",
    "    return N * np.log(0.5) + log_factorial(N+1) \\\n",
    "        - log_factorial(n_H) -log_factorial(N - n_H)\n",
    "\n",
    "log_odds(100, 50)\n"
   ]
  },
  {
   "cell_type": "code",
   "execution_count": 32,
   "metadata": {},
   "outputs": [
    {
     "name": "stderr",
     "output_type": "stream",
     "text": [
      "/var/folders/y5/v1z7p_cs5r52n2kw2rl1bymc0000gp/T/ipykernel_32542/3524210908.py:3: RuntimeWarning: divide by zero encountered in log\n",
      "  return n * np.log(n) + 0.5 * np.log(2*np.pi*n) - n + 1/(12*n)\n",
      "/var/folders/y5/v1z7p_cs5r52n2kw2rl1bymc0000gp/T/ipykernel_32542/3524210908.py:3: RuntimeWarning: invalid value encountered in multiply\n",
      "  return n * np.log(n) + 0.5 * np.log(2*np.pi*n) - n + 1/(12*n)\n",
      "/var/folders/y5/v1z7p_cs5r52n2kw2rl1bymc0000gp/T/ipykernel_32542/3524210908.py:3: RuntimeWarning: divide by zero encountered in true_divide\n",
      "  return n * np.log(n) + 0.5 * np.log(2*np.pi*n) - n + 1/(12*n)\n",
      "/var/folders/y5/v1z7p_cs5r52n2kw2rl1bymc0000gp/T/ipykernel_32542/3524210908.py:3: RuntimeWarning: divide by zero encountered in log\n",
      "  return n * np.log(n) + 0.5 * np.log(2*np.pi*n) - n + 1/(12*n)\n",
      "/var/folders/y5/v1z7p_cs5r52n2kw2rl1bymc0000gp/T/ipykernel_32542/3524210908.py:3: RuntimeWarning: invalid value encountered in multiply\n",
      "  return n * np.log(n) + 0.5 * np.log(2*np.pi*n) - n + 1/(12*n)\n",
      "/var/folders/y5/v1z7p_cs5r52n2kw2rl1bymc0000gp/T/ipykernel_32542/3524210908.py:3: RuntimeWarning: divide by zero encountered in true_divide\n",
      "  return n * np.log(n) + 0.5 * np.log(2*np.pi*n) - n + 1/(12*n)\n"
     ]
    },
    {
     "data": {
      "text/plain": [
       "<matplotlib.legend.Legend at 0x7fc808d187c0>"
      ]
     },
     "execution_count": 32,
     "metadata": {},
     "output_type": "execute_result"
    },
    {
     "data": {
      "image/png": "[encoded data removed]",
      "text/plain": [
       "<Figure size 432x288 with 1 Axes>"
      ]
     },
     "metadata": {
      "needs_background": "light"
     },
     "output_type": "display_data"
    }
   ],
   "source": [
    "n = np.arange(1, N+1)\n",
    "\n",
    "plt.plot(n, log_odds(N=n, n_H=n_heads_1), label=\"fair data\")\n",
    "plt.plot(n, log_odds(N=n, n_H=n_heads_2), label=\"unfair data\")\n",
    "\n",
    "plt.xlabel(\"number of points\")\n",
    "plt.ylabel(\"odds ration (fair/unfair)\")\n",
    "plt.legend()"
   ]
  },
  {
   "cell_type": "code",
   "execution_count": 30,
   "metadata": {},
   "outputs": [
    {
     "data": {
      "text/plain": [
       "65"
      ]
     },
     "execution_count": 30,
     "metadata": {},
     "output_type": "execute_result"
    }
   ],
   "source": [
    "n_heads_2"
   ]
  },
  {
   "cell_type": "code",
   "execution_count": null,
   "metadata": {},
   "outputs": [],
   "source": []
  }
 ],
 "metadata": {
  "kernelspec": {
   "display_name": "Python 3.9.7 ('base')",
   "language": "python",
   "name": "python3"
  },
  "language_info": {
   "codemirror_mode": {
    "name": "ipython",
    "version": 3
   },
   "file_extension": ".py",
   "mimetype": "text/x-python",
   "name": "python",
   "nbconvert_exporter": "python",
   "pygments_lexer": "ipython3",
   "version": "3.9.7"
  },
  "orig_nbformat": 4,
  "vscode": {
   "interpreter": {
    "hash": "38cca0c38332a56087b24af0bc80247f4fced29cb4f7f437d91dc159adec9c4e"
   }
  }
 },
 "nbformat": 4,
 "nbformat_minor": 2
}
