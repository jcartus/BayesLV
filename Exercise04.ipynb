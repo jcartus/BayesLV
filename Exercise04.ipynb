{
 "cells": [
  {
   "cell_type": "code",
   "execution_count": 1,
   "metadata": {},
   "outputs": [],
   "source": [
    "%load_ext autoreload\n",
    "%autoreload 2"
   ]
  },
  {
   "cell_type": "markdown",
   "metadata": {},
   "source": []
  },
  {
   "cell_type": "code",
   "execution_count": 1,
   "metadata": {},
   "outputs": [],
   "source": [
    "import numpy as np\n",
    "import matplotlib.pyplot as plt\n",
    "import matplotlib as mpl\n",
    "\n",
    "import pandas\n",
    "\n",
    "from collections import defaultdict, Counter"
   ]
  },
  {
   "cell_type": "markdown",
   "metadata": {},
   "source": [
    "## Part 1\n",
    "<img src=\"img/Exercise04.png\" width=1000>"
   ]
  },
  {
   "cell_type": "code",
   "execution_count": 219,
   "metadata": {},
   "outputs": [],
   "source": [
    "data = [10, 20, 15, 100, 110, 50]"
   ]
  },
  {
   "cell_type": "code",
   "execution_count": 220,
   "metadata": {},
   "outputs": [
    {
     "data": {
      "text/plain": [
       "(array([2., 1., 0., 0., 1., 0., 0., 0., 0., 2.]),\n",
       " array([ 10.,  20.,  30.,  40.,  50.,  60.,  70.,  80.,  90., 100., 110.]),\n",
       " <BarContainer object of 10 artists>)"
      ]
     },
     "execution_count": 220,
     "metadata": {},
     "output_type": "execute_result"
    },
    {
     "data": {
      "image/png": "[encoded data removed]",
      "text/plain": [
       "<Figure size 432x288 with 1 Axes>"
      ]
     },
     "metadata": {
      "needs_background": "light"
     },
     "output_type": "display_data"
    }
   ],
   "source": [
    "plt.hist(data)"
   ]
  },
  {
   "cell_type": "code",
   "execution_count": 221,
   "metadata": {},
   "outputs": [],
   "source": [
    "def flat(x, lower, upper):\n",
    "    try:\n",
    "        len(x)\n",
    "        r = np.zeros_like(x)\n",
    "        L = (x > lower) & (x < upper)\n",
    "        r[L] = 1/(upper - lower)\n",
    "    except TypeError:\n",
    "        if x > lower and x < upper:\n",
    "            r = 1/(upper - lower)\n",
    "        else:\n",
    "            r = 0\n",
    "    return r\n",
    "    "
   ]
  },
  {
   "cell_type": "code",
   "execution_count": 222,
   "metadata": {},
   "outputs": [],
   "source": [
    "def prior(a, b):\n",
    "    return flat(a, lower=-100, upper=100) * flat(b, lower=0, upper=100)"
   ]
  },
  {
   "cell_type": "code",
   "execution_count": 223,
   "metadata": {},
   "outputs": [
    {
     "data": {
      "text/plain": [
       "-33.45523371309656"
      ]
     },
     "execution_count": 223,
     "metadata": {},
     "output_type": "execute_result"
    }
   ],
   "source": [
    "def log_likelihood(a, b, data):\n",
    "    return np.sum([np.log(1/np.pi * b/(b**2 + (x-a)**2)) for x in data], axis=0)\n",
    "\n",
    "log_likelihood(10, 10, data)"
   ]
  },
  {
   "cell_type": "code",
   "execution_count": 224,
   "metadata": {},
   "outputs": [],
   "source": [
    "def posterior(a, b, data):\n",
    "    return prior(a,b) * np.exp(log_likelihood(a,b, data))"
   ]
  },
  {
   "cell_type": "code",
   "execution_count": 225,
   "metadata": {},
   "outputs": [],
   "source": [
    "def log_posterior(a, b, data):\n",
    "    return np.log(prior(a,b)) + log_likelihood(a,b, data=data)"
   ]
  },
  {
   "cell_type": "code",
   "execution_count": 226,
   "metadata": {},
   "outputs": [],
   "source": [
    "sampling = 100\n",
    "a, b, = np.meshgrid(\n",
    "    np.linspace(-110, 110, sampling),\n",
    "    np.linspace(-10, 110, sampling)\n",
    ")"
   ]
  },
  {
   "cell_type": "code",
   "execution_count": 227,
   "metadata": {},
   "outputs": [
    {
     "name": "stderr",
     "output_type": "stream",
     "text": [
      "/var/folders/y5/v1z7p_cs5r52n2kw2rl1bymc0000gp/T/ipykernel_30372/1077679288.py:2: RuntimeWarning: divide by zero encountered in log\n",
      "  return np.log(prior(a,b)) + log_likelihood(a,b, data=data)\n",
      "/var/folders/y5/v1z7p_cs5r52n2kw2rl1bymc0000gp/T/ipykernel_30372/2396326425.py:2: RuntimeWarning: invalid value encountered in log\n",
      "  return np.sum([np.log(1/np.pi * b/(b**2 + (x-a)**2)) for x in data], axis=0)\n"
     ]
    },
    {
     "data": {
      "text/plain": [
       "(100, 100)"
      ]
     },
     "execution_count": 227,
     "metadata": {},
     "output_type": "execute_result"
    }
   ],
   "source": [
    "log_posterior(a, b, data).shape"
   ]
  },
  {
   "cell_type": "code",
   "execution_count": 228,
   "metadata": {},
   "outputs": [
    {
     "name": "stderr",
     "output_type": "stream",
     "text": [
      "/var/folders/y5/v1z7p_cs5r52n2kw2rl1bymc0000gp/T/ipykernel_30372/1077679288.py:2: RuntimeWarning: divide by zero encountered in log\n",
      "  return np.log(prior(a,b)) + log_likelihood(a,b, data=data)\n",
      "/var/folders/y5/v1z7p_cs5r52n2kw2rl1bymc0000gp/T/ipykernel_30372/2396326425.py:2: RuntimeWarning: invalid value encountered in log\n",
      "  return np.sum([np.log(1/np.pi * b/(b**2 + (x-a)**2)) for x in data], axis=0)\n"
     ]
    },
    {
     "data": {
      "text/plain": [
       "Text(0, 0.5, 'y')"
      ]
     },
     "execution_count": 228,
     "metadata": {},
     "output_type": "execute_result"
    },
    {
     "data": {
      "image/png": "[encoded data removed]",
      "text/plain": [
       "<Figure size 432x288 with 2 Axes>"
      ]
     },
     "metadata": {
      "needs_background": "light"
     },
     "output_type": "display_data"
    }
   ],
   "source": [
    "plt.contourf(\n",
    "    a, b, \n",
    "    log_posterior(a, b, data)\n",
    ")\n",
    "\n",
    "cbar = plt.colorbar()\n",
    "cbar.set_label(\"probability (not normed)\")\n",
    "\n",
    "plt.xlabel(\"x\")\n",
    "plt.ylabel(\"y\")"
   ]
  },
  {
   "cell_type": "code",
   "execution_count": 229,
   "metadata": {},
   "outputs": [
    {
     "name": "stderr",
     "output_type": "stream",
     "text": [
      "/var/folders/y5/v1z7p_cs5r52n2kw2rl1bymc0000gp/T/ipykernel_30372/1077679288.py:2: RuntimeWarning: divide by zero encountered in log\n",
      "  return np.log(prior(a,b)) + log_likelihood(a,b, data=data)\n",
      "/var/folders/y5/v1z7p_cs5r52n2kw2rl1bymc0000gp/T/ipykernel_30372/2396326425.py:2: RuntimeWarning: invalid value encountered in log\n",
      "  return np.sum([np.log(1/np.pi * b/(b**2 + (x-a)**2)) for x in data], axis=0)\n"
     ]
    },
    {
     "name": "stdout",
     "output_type": "stream",
     "text": [
      "[-110.         -107.77777778 -105.55555556 -103.33333333 -101.11111111\n",
      "  -98.88888889  -96.66666667  -94.44444444  -92.22222222  -90.\n",
      "  -87.77777778  -85.55555556  -83.33333333  -81.11111111  -78.88888889\n",
      "  -76.66666667  -74.44444444  -72.22222222  -70.          -67.77777778\n",
      "  -65.55555556  -63.33333333  -61.11111111  -58.88888889  -56.66666667\n",
      "  -54.44444444  -52.22222222  -50.          -47.77777778  -45.55555556\n",
      "  -43.33333333  -41.11111111  -38.88888889  -36.66666667  -34.44444444\n",
      "  -32.22222222  -30.          -27.77777778  -25.55555556  -23.33333333\n",
      "  -21.11111111  -18.88888889  -16.66666667  -14.44444444  -12.22222222\n",
      "  -10.           -7.77777778   -5.55555556   -3.33333333   -1.11111111\n",
      "    1.11111111    3.33333333    5.55555556    7.77777778   10.\n",
      "   12.22222222   14.44444444   16.66666667   18.88888889   21.11111111\n",
      "   23.33333333   25.55555556   27.77777778   30.           32.22222222\n",
      "   34.44444444   36.66666667   38.88888889   41.11111111   43.33333333\n",
      "   45.55555556   47.77777778   50.           52.22222222   54.44444444\n",
      "   56.66666667   58.88888889   61.11111111   63.33333333   65.55555556\n",
      "   67.77777778   70.           72.22222222   74.44444444   76.66666667\n",
      "   78.88888889   81.11111111   83.33333333   85.55555556   87.77777778\n",
      "   90.           92.22222222   94.44444444   96.66666667   98.88888889\n",
      "  101.11111111  103.33333333  105.55555556  107.77777778  110.        ] [-10. -10. -10. -10. -10. -10. -10. -10. -10. -10. -10. -10. -10. -10.\n",
      " -10. -10. -10. -10. -10. -10. -10. -10. -10. -10. -10. -10. -10. -10.\n",
      " -10. -10. -10. -10. -10. -10. -10. -10. -10. -10. -10. -10. -10. -10.\n",
      " -10. -10. -10. -10. -10. -10. -10. -10. -10. -10. -10. -10. -10. -10.\n",
      " -10. -10. -10. -10. -10. -10. -10. -10. -10. -10. -10. -10. -10. -10.\n",
      " -10. -10. -10. -10. -10. -10. -10. -10. -10. -10. -10. -10. -10. -10.\n",
      " -10. -10. -10. -10. -10. -10. -10. -10. -10. -10. -10. -10. -10. -10.\n",
      " -10. -10.]\n",
      "[-110.         -107.77777778 -105.55555556 -103.33333333 -101.11111111\n",
      "  -98.88888889  -96.66666667  -94.44444444  -92.22222222  -90.\n",
      "  -87.77777778  -85.55555556  -83.33333333  -81.11111111  -78.88888889\n",
      "  -76.66666667  -74.44444444  -72.22222222  -70.          -67.77777778\n",
      "  -65.55555556  -63.33333333  -61.11111111  -58.88888889  -56.66666667\n",
      "  -54.44444444  -52.22222222  -50.          -47.77777778  -45.55555556\n",
      "  -43.33333333  -41.11111111  -38.88888889  -36.66666667  -34.44444444\n",
      "  -32.22222222  -30.          -27.77777778  -25.55555556  -23.33333333\n",
      "  -21.11111111  -18.88888889  -16.66666667  -14.44444444  -12.22222222\n",
      "  -10.           -7.77777778   -5.55555556   -3.33333333   -1.11111111\n",
      "    1.11111111    3.33333333    5.55555556    7.77777778   10.\n",
      "   12.22222222   14.44444444   16.66666667   18.88888889   21.11111111\n",
      "   23.33333333   25.55555556   27.77777778   30.           32.22222222\n",
      "   34.44444444   36.66666667   38.88888889   41.11111111   43.33333333\n",
      "   45.55555556   47.77777778   50.           52.22222222   54.44444444\n",
      "   56.66666667   58.88888889   61.11111111   63.33333333   65.55555556\n",
      "   67.77777778   70.           72.22222222   74.44444444   76.66666667\n",
      "   78.88888889   81.11111111   83.33333333   85.55555556   87.77777778\n",
      "   90.           92.22222222   94.44444444   96.66666667   98.88888889\n",
      "  101.11111111  103.33333333  105.55555556  107.77777778  110.        ] [-10. -10. -10. -10. -10. -10. -10. -10. -10. -10. -10. -10. -10. -10.\n",
      " -10. -10. -10. -10. -10. -10. -10. -10. -10. -10. -10. -10. -10. -10.\n",
      " -10. -10. -10. -10. -10. -10. -10. -10. -10. -10. -10. -10. -10. -10.\n",
      " -10. -10. -10. -10. -10. -10. -10. -10. -10. -10. -10. -10. -10. -10.\n",
      " -10. -10. -10. -10. -10. -10. -10. -10. -10. -10. -10. -10. -10. -10.\n",
      " -10. -10. -10. -10. -10. -10. -10. -10. -10. -10. -10. -10. -10. -10.\n",
      " -10. -10. -10. -10. -10. -10. -10. -10. -10. -10. -10. -10. -10. -10.\n",
      " -10. -10.]\n",
      "[-110.         -107.77777778 -105.55555556 -103.33333333 -101.11111111\n",
      "  -98.88888889  -96.66666667  -94.44444444  -92.22222222  -90.\n",
      "  -87.77777778  -85.55555556  -83.33333333  -81.11111111  -78.88888889\n",
      "  -76.66666667  -74.44444444  -72.22222222  -70.          -67.77777778\n",
      "  -65.55555556  -63.33333333  -61.11111111  -58.88888889  -56.66666667\n",
      "  -54.44444444  -52.22222222  -50.          -47.77777778  -45.55555556\n",
      "  -43.33333333  -41.11111111  -38.88888889  -36.66666667  -34.44444444\n",
      "  -32.22222222  -30.          -27.77777778  -25.55555556  -23.33333333\n",
      "  -21.11111111  -18.88888889  -16.66666667  -14.44444444  -12.22222222\n",
      "  -10.           -7.77777778   -5.55555556   -3.33333333   -1.11111111\n",
      "    1.11111111    3.33333333    5.55555556    7.77777778   10.\n",
      "   12.22222222   14.44444444   16.66666667   18.88888889   21.11111111\n",
      "   23.33333333   25.55555556   27.77777778   30.           32.22222222\n",
      "   34.44444444   36.66666667   38.88888889   41.11111111   43.33333333\n",
      "   45.55555556   47.77777778   50.           52.22222222   54.44444444\n",
      "   56.66666667   58.88888889   61.11111111   63.33333333   65.55555556\n",
      "   67.77777778   70.           72.22222222   74.44444444   76.66666667\n",
      "   78.88888889   81.11111111   83.33333333   85.55555556   87.77777778\n",
      "   90.           92.22222222   94.44444444   96.66666667   98.88888889\n",
      "  101.11111111  103.33333333  105.55555556  107.77777778  110.        ] [-10. -10. -10. -10. -10. -10. -10. -10. -10. -10. -10. -10. -10. -10.\n",
      " -10. -10. -10. -10. -10. -10. -10. -10. -10. -10. -10. -10. -10. -10.\n",
      " -10. -10. -10. -10. -10. -10. -10. -10. -10. -10. -10. -10. -10. -10.\n",
      " -10. -10. -10. -10. -10. -10. -10. -10. -10. -10. -10. -10. -10. -10.\n",
      " -10. -10. -10. -10. -10. -10. -10. -10. -10. -10. -10. -10. -10. -10.\n",
      " -10. -10. -10. -10. -10. -10. -10. -10. -10. -10. -10. -10. -10. -10.\n",
      " -10. -10. -10. -10. -10. -10. -10. -10. -10. -10. -10. -10. -10. -10.\n",
      " -10. -10.]\n",
      "[-110.         -107.77777778 -105.55555556 -103.33333333 -101.11111111\n",
      "  -98.88888889  -96.66666667  -94.44444444  -92.22222222  -90.\n",
      "  -87.77777778  -85.55555556  -83.33333333  -81.11111111  -78.88888889\n",
      "  -76.66666667  -74.44444444  -72.22222222  -70.          -67.77777778\n",
      "  -65.55555556  -63.33333333  -61.11111111  -58.88888889  -56.66666667\n",
      "  -54.44444444  -52.22222222  -50.          -47.77777778  -45.55555556\n",
      "  -43.33333333  -41.11111111  -38.88888889  -36.66666667  -34.44444444\n",
      "  -32.22222222  -30.          -27.77777778  -25.55555556  -23.33333333\n",
      "  -21.11111111  -18.88888889  -16.66666667  -14.44444444  -12.22222222\n",
      "  -10.           -7.77777778   -5.55555556   -3.33333333   -1.11111111\n",
      "    1.11111111    3.33333333    5.55555556    7.77777778   10.\n",
      "   12.22222222   14.44444444   16.66666667   18.88888889   21.11111111\n",
      "   23.33333333   25.55555556   27.77777778   30.           32.22222222\n",
      "   34.44444444   36.66666667   38.88888889   41.11111111   43.33333333\n",
      "   45.55555556   47.77777778   50.           52.22222222   54.44444444\n",
      "   56.66666667   58.88888889   61.11111111   63.33333333   65.55555556\n",
      "   67.77777778   70.           72.22222222   74.44444444   76.66666667\n",
      "   78.88888889   81.11111111   83.33333333   85.55555556   87.77777778\n",
      "   90.           92.22222222   94.44444444   96.66666667   98.88888889\n",
      "  101.11111111  103.33333333  105.55555556  107.77777778  110.        ] [-10. -10. -10. -10. -10. -10. -10. -10. -10. -10. -10. -10. -10. -10.\n",
      " -10. -10. -10. -10. -10. -10. -10. -10. -10. -10. -10. -10. -10. -10.\n",
      " -10. -10. -10. -10. -10. -10. -10. -10. -10. -10. -10. -10. -10. -10.\n",
      " -10. -10. -10. -10. -10. -10. -10. -10. -10. -10. -10. -10. -10. -10.\n",
      " -10. -10. -10. -10. -10. -10. -10. -10. -10. -10. -10. -10. -10. -10.\n",
      " -10. -10. -10. -10. -10. -10. -10. -10. -10. -10. -10. -10. -10. -10.\n",
      " -10. -10. -10. -10. -10. -10. -10. -10. -10. -10. -10. -10. -10. -10.\n",
      " -10. -10.]\n",
      "[-110.         -107.77777778 -105.55555556 -103.33333333 -101.11111111\n",
      "  -98.88888889  -96.66666667  -94.44444444  -92.22222222  -90.\n",
      "  -87.77777778  -85.55555556  -83.33333333  -81.11111111  -78.88888889\n",
      "  -76.66666667  -74.44444444  -72.22222222  -70.          -67.77777778\n",
      "  -65.55555556  -63.33333333  -61.11111111  -58.88888889  -56.66666667\n",
      "  -54.44444444  -52.22222222  -50.          -47.77777778  -45.55555556\n",
      "  -43.33333333  -41.11111111  -38.88888889  -36.66666667  -34.44444444\n",
      "  -32.22222222  -30.          -27.77777778  -25.55555556  -23.33333333\n",
      "  -21.11111111  -18.88888889  -16.66666667  -14.44444444  -12.22222222\n",
      "  -10.           -7.77777778   -5.55555556   -3.33333333   -1.11111111\n",
      "    1.11111111    3.33333333    5.55555556    7.77777778   10.\n",
      "   12.22222222   14.44444444   16.66666667   18.88888889   21.11111111\n",
      "   23.33333333   25.55555556   27.77777778   30.           32.22222222\n",
      "   34.44444444   36.66666667   38.88888889   41.11111111   43.33333333\n",
      "   45.55555556   47.77777778   50.           52.22222222   54.44444444\n",
      "   56.66666667   58.88888889   61.11111111   63.33333333   65.55555556\n",
      "   67.77777778   70.           72.22222222   74.44444444   76.66666667\n",
      "   78.88888889   81.11111111   83.33333333   85.55555556   87.77777778\n",
      "   90.           92.22222222   94.44444444   96.66666667   98.88888889\n",
      "  101.11111111  103.33333333  105.55555556  107.77777778  110.        ] [-10. -10. -10. -10. -10. -10. -10. -10. -10. -10. -10. -10. -10. -10.\n",
      " -10. -10. -10. -10. -10. -10. -10. -10. -10. -10. -10. -10. -10. -10.\n",
      " -10. -10. -10. -10. -10. -10. -10. -10. -10. -10. -10. -10. -10. -10.\n",
      " -10. -10. -10. -10. -10. -10. -10. -10. -10. -10. -10. -10. -10. -10.\n",
      " -10. -10. -10. -10. -10. -10. -10. -10. -10. -10. -10. -10. -10. -10.\n",
      " -10. -10. -10. -10. -10. -10. -10. -10. -10. -10. -10. -10. -10. -10.\n",
      " -10. -10. -10. -10. -10. -10. -10. -10. -10. -10. -10. -10. -10. -10.\n",
      " -10. -10.]\n"
     ]
    },
    {
     "data": {
      "image/png": "[encoded data removed]",
      "text/plain": [
       "<Figure size 432x288 with 2 Axes>"
      ]
     },
     "metadata": {
      "needs_background": "light"
     },
     "output_type": "display_data"
    },
    {
     "data": {
      "image/png": "[encoded data removed]",
      "text/plain": [
       "<Figure size 432x288 with 2 Axes>"
      ]
     },
     "metadata": {
      "needs_background": "light"
     },
     "output_type": "display_data"
    },
    {
     "data": {
      "image/png": "[encoded data removed]",
      "text/plain": [
       "<Figure size 432x288 with 2 Axes>"
      ]
     },
     "metadata": {
      "needs_background": "light"
     },
     "output_type": "display_data"
    },
    {
     "data": {
      "image/png": "[encoded data removed]",
      "text/plain": [
       "<Figure size 432x288 with 2 Axes>"
      ]
     },
     "metadata": {
      "needs_background": "light"
     },
     "output_type": "display_data"
    },
    {
     "data": {
      "image/png": "[encoded data removed]",
      "text/plain": [
       "<Figure size 432x288 with 2 Axes>"
      ]
     },
     "metadata": {
      "needs_background": "light"
     },
     "output_type": "display_data"
    }
   ],
   "source": [
    "for n in [2, 3, 4, 5, 10,]:\n",
    "\n",
    "    p = log_posterior(a, b, data[:n])\n",
    "\n",
    "    index = np.argmax(p)\n",
    "    print(a[index], b[index])\n",
    "\n",
    "    plt.figure()\n",
    "    plt.title(f\"{n} data points\")\n",
    "    plt.contourf(\n",
    "        a, b, \n",
    "        p\n",
    "    )\n",
    "\n",
    "    cbar = plt.colorbar()\n",
    "    cbar.set_label(\"probability (not normed)\")\n",
    "\n",
    "    plt.xlabel(\"x\")\n",
    "    plt.ylabel(\"y\")"
   ]
  },
  {
   "cell_type": "code",
   "execution_count": null,
   "metadata": {},
   "outputs": [],
   "source": []
  },
  {
   "cell_type": "code",
   "execution_count": 230,
   "metadata": {},
   "outputs": [
    {
     "name": "stdout",
     "output_type": "stream",
     "text": [
      "Expectation at n= 2: 16.7, 4.5\n",
      "Expectation at n= 3: 14.4, 3.3\n",
      "Expectation at n= 4: 14.4, 4.5\n",
      "Expectation at n= 5: 16.7, 9.4\n",
      "Expectation at n=10: 23.3, 20.3\n"
     ]
    },
    {
     "name": "stderr",
     "output_type": "stream",
     "text": [
      "/var/folders/y5/v1z7p_cs5r52n2kw2rl1bymc0000gp/T/ipykernel_30372/1077679288.py:2: RuntimeWarning: divide by zero encountered in log\n",
      "  return np.log(prior(a,b)) + log_likelihood(a,b, data=data)\n",
      "/var/folders/y5/v1z7p_cs5r52n2kw2rl1bymc0000gp/T/ipykernel_30372/2396326425.py:2: RuntimeWarning: invalid value encountered in log\n",
      "  return np.sum([np.log(1/np.pi * b/(b**2 + (x-a)**2)) for x in data], axis=0)\n"
     ]
    }
   ],
   "source": [
    "for n in [2, 3, 4, 5, 10,]:\n",
    "\n",
    "    p = log_posterior(a, b, data[:n])\n",
    "\n",
    "    index = np.nanargmax(p)\n",
    "    a_expected = a.flatten()[index]\n",
    "    b_expected = b.flatten()[index]\n",
    "\n",
    "    print(f\"Expectation at n={n:2d}: {a_expected:02.1f}, {b_expected:02.1f}\")"
   ]
  },
  {
   "cell_type": "markdown",
   "metadata": {},
   "source": [
    "## Part 2"
   ]
  },
  {
   "cell_type": "code",
   "execution_count": 231,
   "metadata": {},
   "outputs": [
    {
     "data": {
      "text/plain": [
       "(array([ 4.,  1.,  8.,  4.,  6., 11.,  7.,  2.,  5.,  2.]),\n",
       " array([-64.30454219, -45.70536775, -27.10619331,  -8.50701887,\n",
       "         10.09215557,  28.69133001,  47.29050445,  65.88967889,\n",
       "         84.48885333, 103.08802777, 121.68720221]),\n",
       " <BarContainer object of 10 artists>)"
      ]
     },
     "execution_count": 231,
     "metadata": {},
     "output_type": "execute_result"
    },
    {
     "data": {
      "image/png": "[encoded data removed]",
      "text/plain": [
       "<Figure size 432x288 with 1 Axes>"
      ]
     },
     "metadata": {
      "needs_background": "light"
     },
     "output_type": "display_data"
    }
   ],
   "source": [
    "data = np.random.randn(50)*50 + 30\n",
    "plt.hist(data)"
   ]
  },
  {
   "cell_type": "code",
   "execution_count": 232,
   "metadata": {},
   "outputs": [],
   "source": [
    "def variance_a(b, data, sampling=10):\n",
    "    a = np.linspace(-100, 100, sampling)\n",
    "\n",
    "    p = log_likelihood(a, b, data=data)\n",
    "\n",
    "    return np.dot(a, np.exp(a))"
   ]
  },
  {
   "cell_type": "code",
   "execution_count": 233,
   "metadata": {},
   "outputs": [
    {
     "name": "stderr",
     "output_type": "stream",
     "text": [
      "/var/folders/y5/v1z7p_cs5r52n2kw2rl1bymc0000gp/T/ipykernel_30372/2396326425.py:2: RuntimeWarning: invalid value encountered in log\n",
      "  return np.sum([np.log(1/np.pi * b/(b**2 + (x-a)**2)) for x in data], axis=0)\n"
     ]
    },
    {
     "data": {
      "image/png": "[encoded data removed]",
      "text/plain": [
       "<Figure size 432x288 with 1 Axes>"
      ]
     },
     "metadata": {
      "needs_background": "light"
     },
     "output_type": "display_data"
    }
   ],
   "source": [
    "N = [10, 20, 30, 40, 50, 60, 80]\n",
    "\n",
    "for b in [-10, 10, 30, 50, 100]:\n",
    "\n",
    "    sigma = [variance_a(b, data=data[:n]) for n in N]\n",
    "\n",
    "    plt.plot(N, sigma, label=b)"
   ]
  },
  {
   "cell_type": "code",
   "execution_count": null,
   "metadata": {},
   "outputs": [],
   "source": []
  },
  {
   "cell_type": "code",
   "execution_count": 234,
   "metadata": {},
   "outputs": [
    {
     "data": {
      "text/plain": [
       "[<matplotlib.lines.Line2D at 0x7f7972121df0>]"
      ]
     },
     "execution_count": 234,
     "metadata": {},
     "output_type": "execute_result"
    },
    {
     "data": {
      "image/png": "[encoded data removed]",
      "text/plain": [
       "<Figure size 432x288 with 1 Axes>"
      ]
     },
     "metadata": {
      "needs_background": "light"
     },
     "output_type": "display_data"
    }
   ],
   "source": [
    "data = np.array([\n",
    "    [0, 3.5],\n",
    "    [1, 0.6],\n",
    "    [2, 3.61],\n",
    "    [3, -0.7],\n",
    "    [4, 0.45],\n",
    "    [5, 2.9],\n",
    "    [6, 2.57]\n",
    "])\n",
    "\n",
    "plt.plot(data[:, 0], data[:, 1], \"x-\")"
   ]
  },
  {
   "cell_type": "code",
   "execution_count": 235,
   "metadata": {},
   "outputs": [
    {
     "data": {
      "text/plain": [
       "0.05"
      ]
     },
     "execution_count": 235,
     "metadata": {},
     "output_type": "execute_result"
    }
   ],
   "source": [
    "def prior(a):\n",
    "    return flat(a, lower=-10, upper=10)\n",
    "\n",
    "prior(2)"
   ]
  },
  {
   "cell_type": "code",
   "execution_count": null,
   "metadata": {},
   "outputs": [],
   "source": []
  },
  {
   "cell_type": "code",
   "execution_count": 236,
   "metadata": {},
   "outputs": [],
   "source": [
    "def func(x, a):\n",
    "    return a*np.cos(x)"
   ]
  },
  {
   "cell_type": "code",
   "execution_count": null,
   "metadata": {},
   "outputs": [],
   "source": [
    "def likelihood_exponent(a, data, f=func, b=1.1):\n",
    "    x, y = data.transpose()\n",
    "    return np.array([\n",
    "        np.sum(np.abs(y - f(x, aa))) if np.all(y > f(x, aa)) else 0 for aa in a\n",
    "    ])\n",
    "\n",
    "def log_likelihood(a, data, f=func, b=1.1):\n",
    "\n",
    "    return likelihood_exponent(a, data, f=func, b=1.1) -len(data) * np.log(b)\n"
   ]
  },
  {
   "cell_type": "code",
   "execution_count": null,
   "metadata": {},
   "outputs": [],
   "source": []
  }
 ],
 "metadata": {
  "kernelspec": {
   "display_name": "Python 3.9.7 ('base')",
   "language": "python",
   "name": "python3"
  },
  "language_info": {
   "codemirror_mode": {
    "name": "ipython",
    "version": 3
   },
   "file_extension": ".py",
   "mimetype": "text/x-python",
   "name": "python",
   "nbconvert_exporter": "python",
   "pygments_lexer": "ipython3",
   "version": "3.9.7"
  },
  "orig_nbformat": 4,
  "vscode": {
   "interpreter": {
    "hash": "38cca0c38332a56087b24af0bc80247f4fced29cb4f7f437d91dc159adec9c4e"
   }
  }
 },
 "nbformat": 4,
 "nbformat_minor": 2
}
